{
 "cells": [
  {
   "cell_type": "markdown",
   "id": "55b40727",
   "metadata": {},
   "source": [
    " ###### The dataset related to life expectancy, health factors for 193 countries has been collected from the same WHO data repository website and its corresponding economic data was collected from United Nation website. Among all categories of health-related factors only those critical factors were chosen which are more representative."
   ]
  },
  {
   "cell_type": "markdown",
   "id": "09bcb260",
   "metadata": {},
   "source": [
    "\n",
    "\n"
   ]
  },
  {
   "cell_type": "markdown",
   "id": "be31395e",
   "metadata": {},
   "source": [
    "##### The data-set aims to answer the following key questions:\n",
    "\n",
    "Does various predicting factors which has been chosen initially really affect the Life expectancy? \n",
    "\n",
    "What are the predicting variables actually affecting the life expectancy?\n",
    "\n",
    "Should a country having a lower life expectancy value(<65) increase its healthcare expenditure in order to improve its average lifespan?\n",
    "\n",
    "How does Infant and Adult mortality rates affect life expectancy?\n",
    "\n",
    "Does Life Expectancy has positive or negative correlation with eating habits, lifestyle, exercise, smoking, drinking alcohol etc.\n",
    "\n",
    "What is the impact of schooling on the lifespan of humans?\n",
    "\n",
    "Does Life Expectancy have positive or negative relationship with drinking alcohol?\n",
    "\n",
    "Do densely populated countries tend to have lower life expectancy?\n",
    "\n",
    "What is the impact of Immunization coverage on life Expectancy?"
   ]
  },
  {
   "cell_type": "code",
   "execution_count": 1,
   "id": "fb3f0189",
   "metadata": {},
   "outputs": [],
   "source": [
    "import pandas as pd\n",
    "import numpy as np\n",
    "import matplotlib.pyplot as plt\n",
    "import seaborn as sns"
   ]
  },
  {
   "cell_type": "code",
   "execution_count": 2,
   "id": "35433667",
   "metadata": {},
   "outputs": [
    {
     "data": {
      "text/html": [
       "<div>\n",
       "<style scoped>\n",
       "    .dataframe tbody tr th:only-of-type {\n",
       "        vertical-align: middle;\n",
       "    }\n",
       "\n",
       "    .dataframe tbody tr th {\n",
       "        vertical-align: top;\n",
       "    }\n",
       "\n",
       "    .dataframe thead th {\n",
       "        text-align: right;\n",
       "    }\n",
       "</style>\n",
       "<table border=\"1\" class=\"dataframe\">\n",
       "  <thead>\n",
       "    <tr style=\"text-align: right;\">\n",
       "      <th></th>\n",
       "      <th>Country</th>\n",
       "      <th>Year</th>\n",
       "      <th>Status</th>\n",
       "      <th>Life expectancy</th>\n",
       "      <th>Adult Mortality</th>\n",
       "      <th>infant deaths</th>\n",
       "      <th>Alcohol</th>\n",
       "      <th>percentage expenditure</th>\n",
       "      <th>Hepatitis B</th>\n",
       "      <th>Measles</th>\n",
       "      <th>...</th>\n",
       "      <th>Polio</th>\n",
       "      <th>Total expenditure</th>\n",
       "      <th>Diphtheria</th>\n",
       "      <th>HIV/AIDS</th>\n",
       "      <th>GDP</th>\n",
       "      <th>Population</th>\n",
       "      <th>thinness  1-19 years</th>\n",
       "      <th>thinness 5-9 years</th>\n",
       "      <th>Income composition of resources</th>\n",
       "      <th>Schooling</th>\n",
       "    </tr>\n",
       "  </thead>\n",
       "  <tbody>\n",
       "    <tr>\n",
       "      <th>0</th>\n",
       "      <td>Afghanistan</td>\n",
       "      <td>2015</td>\n",
       "      <td>Developing</td>\n",
       "      <td>65.0</td>\n",
       "      <td>263.0</td>\n",
       "      <td>62</td>\n",
       "      <td>0.01</td>\n",
       "      <td>71.279624</td>\n",
       "      <td>65.0</td>\n",
       "      <td>1154</td>\n",
       "      <td>...</td>\n",
       "      <td>6.0</td>\n",
       "      <td>8.16</td>\n",
       "      <td>65.0</td>\n",
       "      <td>0.1</td>\n",
       "      <td>584.259210</td>\n",
       "      <td>33736494.0</td>\n",
       "      <td>17.2</td>\n",
       "      <td>17.3</td>\n",
       "      <td>0.479</td>\n",
       "      <td>10.1</td>\n",
       "    </tr>\n",
       "    <tr>\n",
       "      <th>1</th>\n",
       "      <td>Afghanistan</td>\n",
       "      <td>2014</td>\n",
       "      <td>Developing</td>\n",
       "      <td>59.9</td>\n",
       "      <td>271.0</td>\n",
       "      <td>64</td>\n",
       "      <td>0.01</td>\n",
       "      <td>73.523582</td>\n",
       "      <td>62.0</td>\n",
       "      <td>492</td>\n",
       "      <td>...</td>\n",
       "      <td>58.0</td>\n",
       "      <td>8.18</td>\n",
       "      <td>62.0</td>\n",
       "      <td>0.1</td>\n",
       "      <td>612.696514</td>\n",
       "      <td>327582.0</td>\n",
       "      <td>17.5</td>\n",
       "      <td>17.5</td>\n",
       "      <td>0.476</td>\n",
       "      <td>10.0</td>\n",
       "    </tr>\n",
       "    <tr>\n",
       "      <th>2</th>\n",
       "      <td>Afghanistan</td>\n",
       "      <td>2013</td>\n",
       "      <td>Developing</td>\n",
       "      <td>59.9</td>\n",
       "      <td>268.0</td>\n",
       "      <td>66</td>\n",
       "      <td>0.01</td>\n",
       "      <td>73.219243</td>\n",
       "      <td>64.0</td>\n",
       "      <td>430</td>\n",
       "      <td>...</td>\n",
       "      <td>62.0</td>\n",
       "      <td>8.13</td>\n",
       "      <td>64.0</td>\n",
       "      <td>0.1</td>\n",
       "      <td>631.744976</td>\n",
       "      <td>31731688.0</td>\n",
       "      <td>17.7</td>\n",
       "      <td>17.7</td>\n",
       "      <td>0.470</td>\n",
       "      <td>9.9</td>\n",
       "    </tr>\n",
       "    <tr>\n",
       "      <th>3</th>\n",
       "      <td>Afghanistan</td>\n",
       "      <td>2012</td>\n",
       "      <td>Developing</td>\n",
       "      <td>59.5</td>\n",
       "      <td>272.0</td>\n",
       "      <td>69</td>\n",
       "      <td>0.01</td>\n",
       "      <td>78.184215</td>\n",
       "      <td>67.0</td>\n",
       "      <td>2787</td>\n",
       "      <td>...</td>\n",
       "      <td>67.0</td>\n",
       "      <td>8.52</td>\n",
       "      <td>67.0</td>\n",
       "      <td>0.1</td>\n",
       "      <td>669.959000</td>\n",
       "      <td>3696958.0</td>\n",
       "      <td>17.9</td>\n",
       "      <td>18.0</td>\n",
       "      <td>0.463</td>\n",
       "      <td>9.8</td>\n",
       "    </tr>\n",
       "    <tr>\n",
       "      <th>4</th>\n",
       "      <td>Afghanistan</td>\n",
       "      <td>2011</td>\n",
       "      <td>Developing</td>\n",
       "      <td>59.2</td>\n",
       "      <td>275.0</td>\n",
       "      <td>71</td>\n",
       "      <td>0.01</td>\n",
       "      <td>7.097109</td>\n",
       "      <td>68.0</td>\n",
       "      <td>3013</td>\n",
       "      <td>...</td>\n",
       "      <td>68.0</td>\n",
       "      <td>7.87</td>\n",
       "      <td>68.0</td>\n",
       "      <td>0.1</td>\n",
       "      <td>63.537231</td>\n",
       "      <td>2978599.0</td>\n",
       "      <td>18.2</td>\n",
       "      <td>18.2</td>\n",
       "      <td>0.454</td>\n",
       "      <td>9.5</td>\n",
       "    </tr>\n",
       "    <tr>\n",
       "      <th>...</th>\n",
       "      <td>...</td>\n",
       "      <td>...</td>\n",
       "      <td>...</td>\n",
       "      <td>...</td>\n",
       "      <td>...</td>\n",
       "      <td>...</td>\n",
       "      <td>...</td>\n",
       "      <td>...</td>\n",
       "      <td>...</td>\n",
       "      <td>...</td>\n",
       "      <td>...</td>\n",
       "      <td>...</td>\n",
       "      <td>...</td>\n",
       "      <td>...</td>\n",
       "      <td>...</td>\n",
       "      <td>...</td>\n",
       "      <td>...</td>\n",
       "      <td>...</td>\n",
       "      <td>...</td>\n",
       "      <td>...</td>\n",
       "      <td>...</td>\n",
       "    </tr>\n",
       "    <tr>\n",
       "      <th>2933</th>\n",
       "      <td>Zimbabwe</td>\n",
       "      <td>2004</td>\n",
       "      <td>Developing</td>\n",
       "      <td>44.3</td>\n",
       "      <td>723.0</td>\n",
       "      <td>27</td>\n",
       "      <td>4.36</td>\n",
       "      <td>0.000000</td>\n",
       "      <td>68.0</td>\n",
       "      <td>31</td>\n",
       "      <td>...</td>\n",
       "      <td>67.0</td>\n",
       "      <td>7.13</td>\n",
       "      <td>65.0</td>\n",
       "      <td>33.6</td>\n",
       "      <td>454.366654</td>\n",
       "      <td>12777511.0</td>\n",
       "      <td>9.4</td>\n",
       "      <td>9.4</td>\n",
       "      <td>0.407</td>\n",
       "      <td>9.2</td>\n",
       "    </tr>\n",
       "    <tr>\n",
       "      <th>2934</th>\n",
       "      <td>Zimbabwe</td>\n",
       "      <td>2003</td>\n",
       "      <td>Developing</td>\n",
       "      <td>44.5</td>\n",
       "      <td>715.0</td>\n",
       "      <td>26</td>\n",
       "      <td>4.06</td>\n",
       "      <td>0.000000</td>\n",
       "      <td>7.0</td>\n",
       "      <td>998</td>\n",
       "      <td>...</td>\n",
       "      <td>7.0</td>\n",
       "      <td>6.52</td>\n",
       "      <td>68.0</td>\n",
       "      <td>36.7</td>\n",
       "      <td>453.351155</td>\n",
       "      <td>12633897.0</td>\n",
       "      <td>9.8</td>\n",
       "      <td>9.9</td>\n",
       "      <td>0.418</td>\n",
       "      <td>9.5</td>\n",
       "    </tr>\n",
       "    <tr>\n",
       "      <th>2935</th>\n",
       "      <td>Zimbabwe</td>\n",
       "      <td>2002</td>\n",
       "      <td>Developing</td>\n",
       "      <td>44.8</td>\n",
       "      <td>73.0</td>\n",
       "      <td>25</td>\n",
       "      <td>4.43</td>\n",
       "      <td>0.000000</td>\n",
       "      <td>73.0</td>\n",
       "      <td>304</td>\n",
       "      <td>...</td>\n",
       "      <td>73.0</td>\n",
       "      <td>6.53</td>\n",
       "      <td>71.0</td>\n",
       "      <td>39.8</td>\n",
       "      <td>57.348340</td>\n",
       "      <td>125525.0</td>\n",
       "      <td>1.2</td>\n",
       "      <td>1.3</td>\n",
       "      <td>0.427</td>\n",
       "      <td>10.0</td>\n",
       "    </tr>\n",
       "    <tr>\n",
       "      <th>2936</th>\n",
       "      <td>Zimbabwe</td>\n",
       "      <td>2001</td>\n",
       "      <td>Developing</td>\n",
       "      <td>45.3</td>\n",
       "      <td>686.0</td>\n",
       "      <td>25</td>\n",
       "      <td>1.72</td>\n",
       "      <td>0.000000</td>\n",
       "      <td>76.0</td>\n",
       "      <td>529</td>\n",
       "      <td>...</td>\n",
       "      <td>76.0</td>\n",
       "      <td>6.16</td>\n",
       "      <td>75.0</td>\n",
       "      <td>42.1</td>\n",
       "      <td>548.587312</td>\n",
       "      <td>12366165.0</td>\n",
       "      <td>1.6</td>\n",
       "      <td>1.7</td>\n",
       "      <td>0.427</td>\n",
       "      <td>9.8</td>\n",
       "    </tr>\n",
       "    <tr>\n",
       "      <th>2937</th>\n",
       "      <td>Zimbabwe</td>\n",
       "      <td>2000</td>\n",
       "      <td>Developing</td>\n",
       "      <td>46.0</td>\n",
       "      <td>665.0</td>\n",
       "      <td>24</td>\n",
       "      <td>1.68</td>\n",
       "      <td>0.000000</td>\n",
       "      <td>79.0</td>\n",
       "      <td>1483</td>\n",
       "      <td>...</td>\n",
       "      <td>78.0</td>\n",
       "      <td>7.10</td>\n",
       "      <td>78.0</td>\n",
       "      <td>43.5</td>\n",
       "      <td>547.358878</td>\n",
       "      <td>12222251.0</td>\n",
       "      <td>11.0</td>\n",
       "      <td>11.2</td>\n",
       "      <td>0.434</td>\n",
       "      <td>9.8</td>\n",
       "    </tr>\n",
       "  </tbody>\n",
       "</table>\n",
       "<p>2938 rows × 22 columns</p>\n",
       "</div>"
      ],
      "text/plain": [
       "          Country  Year      Status  Life expectancy   Adult Mortality  \\\n",
       "0     Afghanistan  2015  Developing              65.0            263.0   \n",
       "1     Afghanistan  2014  Developing              59.9            271.0   \n",
       "2     Afghanistan  2013  Developing              59.9            268.0   \n",
       "3     Afghanistan  2012  Developing              59.5            272.0   \n",
       "4     Afghanistan  2011  Developing              59.2            275.0   \n",
       "...           ...   ...         ...               ...              ...   \n",
       "2933     Zimbabwe  2004  Developing              44.3            723.0   \n",
       "2934     Zimbabwe  2003  Developing              44.5            715.0   \n",
       "2935     Zimbabwe  2002  Developing              44.8             73.0   \n",
       "2936     Zimbabwe  2001  Developing              45.3            686.0   \n",
       "2937     Zimbabwe  2000  Developing              46.0            665.0   \n",
       "\n",
       "      infant deaths  Alcohol  percentage expenditure  Hepatitis B  Measles   \\\n",
       "0                62     0.01               71.279624         65.0      1154   \n",
       "1                64     0.01               73.523582         62.0       492   \n",
       "2                66     0.01               73.219243         64.0       430   \n",
       "3                69     0.01               78.184215         67.0      2787   \n",
       "4                71     0.01                7.097109         68.0      3013   \n",
       "...             ...      ...                     ...          ...       ...   \n",
       "2933             27     4.36                0.000000         68.0        31   \n",
       "2934             26     4.06                0.000000          7.0       998   \n",
       "2935             25     4.43                0.000000         73.0       304   \n",
       "2936             25     1.72                0.000000         76.0       529   \n",
       "2937             24     1.68                0.000000         79.0      1483   \n",
       "\n",
       "      ...  Polio  Total expenditure  Diphtheria    HIV/AIDS         GDP  \\\n",
       "0     ...    6.0               8.16         65.0        0.1  584.259210   \n",
       "1     ...   58.0               8.18         62.0        0.1  612.696514   \n",
       "2     ...   62.0               8.13         64.0        0.1  631.744976   \n",
       "3     ...   67.0               8.52         67.0        0.1  669.959000   \n",
       "4     ...   68.0               7.87         68.0        0.1   63.537231   \n",
       "...   ...    ...                ...          ...        ...         ...   \n",
       "2933  ...   67.0               7.13         65.0       33.6  454.366654   \n",
       "2934  ...    7.0               6.52         68.0       36.7  453.351155   \n",
       "2935  ...   73.0               6.53         71.0       39.8   57.348340   \n",
       "2936  ...   76.0               6.16         75.0       42.1  548.587312   \n",
       "2937  ...   78.0               7.10         78.0       43.5  547.358878   \n",
       "\n",
       "      Population   thinness  1-19 years   thinness 5-9 years  \\\n",
       "0     33736494.0                   17.2                 17.3   \n",
       "1       327582.0                   17.5                 17.5   \n",
       "2     31731688.0                   17.7                 17.7   \n",
       "3      3696958.0                   17.9                 18.0   \n",
       "4      2978599.0                   18.2                 18.2   \n",
       "...          ...                    ...                  ...   \n",
       "2933  12777511.0                    9.4                  9.4   \n",
       "2934  12633897.0                    9.8                  9.9   \n",
       "2935    125525.0                    1.2                  1.3   \n",
       "2936  12366165.0                    1.6                  1.7   \n",
       "2937  12222251.0                   11.0                 11.2   \n",
       "\n",
       "      Income composition of resources  Schooling  \n",
       "0                               0.479       10.1  \n",
       "1                               0.476       10.0  \n",
       "2                               0.470        9.9  \n",
       "3                               0.463        9.8  \n",
       "4                               0.454        9.5  \n",
       "...                               ...        ...  \n",
       "2933                            0.407        9.2  \n",
       "2934                            0.418        9.5  \n",
       "2935                            0.427       10.0  \n",
       "2936                            0.427        9.8  \n",
       "2937                            0.434        9.8  \n",
       "\n",
       "[2938 rows x 22 columns]"
      ]
     },
     "execution_count": 2,
     "metadata": {},
     "output_type": "execute_result"
    }
   ],
   "source": [
    "life = pd.read_csv(\"C:/Users/sriharsha/Desktop/data science/data sets/life Expectancy Kaggle/Life Expectancy Data.csv\",)\n",
    "life_copy = life.copy()\n",
    "life"
   ]
  },
  {
   "cell_type": "code",
   "execution_count": 3,
   "id": "a54cf4ac",
   "metadata": {},
   "outputs": [
    {
     "data": {
      "text/plain": [
       "Index(['Country', 'Year', 'Status', 'Life expectancy ', 'Adult Mortality',\n",
       "       'infant deaths', 'Alcohol', 'percentage expenditure', 'Hepatitis B',\n",
       "       'Measles ', ' BMI ', 'under-five deaths ', 'Polio', 'Total expenditure',\n",
       "       'Diphtheria ', ' HIV/AIDS', 'GDP', 'Population',\n",
       "       ' thinness  1-19 years', ' thinness 5-9 years',\n",
       "       'Income composition of resources', 'Schooling'],\n",
       "      dtype='object')"
      ]
     },
     "execution_count": 3,
     "metadata": {},
     "output_type": "execute_result"
    }
   ],
   "source": [
    "life.columns\n",
    "#there are some column names with Extra White space front and back"
   ]
  },
  {
   "cell_type": "code",
   "execution_count": 4,
   "id": "d8f28e1c",
   "metadata": {},
   "outputs": [],
   "source": [
    "life.columns = life.columns[:].str.strip()"
   ]
  },
  {
   "cell_type": "code",
   "execution_count": 5,
   "id": "ec206ec6",
   "metadata": {},
   "outputs": [
    {
     "data": {
      "text/plain": [
       "Index(['country', 'year', 'status', 'life expectancy', 'adult mortality',\n",
       "       'infant deaths', 'alcohol', 'percentage expenditure', 'hepatitis b',\n",
       "       'measles', 'bmi', 'under-five deaths', 'polio', 'total expenditure',\n",
       "       'diphtheria', 'hiv/aids', 'gdp', 'population', 'thinness  1-19 years',\n",
       "       'thinness 5-9 years', 'income composition of resources', 'schooling'],\n",
       "      dtype='object')"
      ]
     },
     "execution_count": 5,
     "metadata": {},
     "output_type": "execute_result"
    }
   ],
   "source": [
    "life.columns = life.columns.str.lower()\n",
    "life.columns"
   ]
  },
  {
   "cell_type": "code",
   "execution_count": null,
   "id": "0735df03",
   "metadata": {},
   "outputs": [],
   "source": []
  },
  {
   "cell_type": "code",
   "execution_count": 6,
   "id": "231ddef8",
   "metadata": {},
   "outputs": [],
   "source": [
    "life.status.replace(to_replace=['Developing', 'Developed'],value=[0,1],inplace = True)\n",
    "#replacing Developing with 0 and Developed with 1 inorder to add them in correlation matrix"
   ]
  },
  {
   "cell_type": "code",
   "execution_count": null,
   "id": "d6c65ece",
   "metadata": {},
   "outputs": [],
   "source": []
  },
  {
   "cell_type": "code",
   "execution_count": null,
   "id": "237a82f5",
   "metadata": {},
   "outputs": [],
   "source": []
  },
  {
   "cell_type": "code",
   "execution_count": 7,
   "id": "19d49f75",
   "metadata": {},
   "outputs": [
    {
     "name": "stdout",
     "output_type": "stream",
     "text": [
      "<class 'pandas.core.frame.DataFrame'>\n",
      "RangeIndex: 2938 entries, 0 to 2937\n",
      "Data columns (total 22 columns):\n",
      " #   Column                           Non-Null Count  Dtype  \n",
      "---  ------                           --------------  -----  \n",
      " 0   country                          2938 non-null   object \n",
      " 1   year                             2938 non-null   int64  \n",
      " 2   status                           2938 non-null   int64  \n",
      " 3   life expectancy                  2928 non-null   float64\n",
      " 4   adult mortality                  2928 non-null   float64\n",
      " 5   infant deaths                    2938 non-null   int64  \n",
      " 6   alcohol                          2744 non-null   float64\n",
      " 7   percentage expenditure           2938 non-null   float64\n",
      " 8   hepatitis b                      2385 non-null   float64\n",
      " 9   measles                          2938 non-null   int64  \n",
      " 10  bmi                              2904 non-null   float64\n",
      " 11  under-five deaths                2938 non-null   int64  \n",
      " 12  polio                            2919 non-null   float64\n",
      " 13  total expenditure                2712 non-null   float64\n",
      " 14  diphtheria                       2919 non-null   float64\n",
      " 15  hiv/aids                         2938 non-null   float64\n",
      " 16  gdp                              2490 non-null   float64\n",
      " 17  population                       2286 non-null   float64\n",
      " 18  thinness  1-19 years             2904 non-null   float64\n",
      " 19  thinness 5-9 years               2904 non-null   float64\n",
      " 20  income composition of resources  2771 non-null   float64\n",
      " 21  schooling                        2775 non-null   float64\n",
      "dtypes: float64(16), int64(5), object(1)\n",
      "memory usage: 505.1+ KB\n"
     ]
    }
   ],
   "source": [
    "life.info()"
   ]
  },
  {
   "cell_type": "code",
   "execution_count": 8,
   "id": "36c6e130",
   "metadata": {},
   "outputs": [
    {
     "data": {
      "text/html": [
       "<div>\n",
       "<style scoped>\n",
       "    .dataframe tbody tr th:only-of-type {\n",
       "        vertical-align: middle;\n",
       "    }\n",
       "\n",
       "    .dataframe tbody tr th {\n",
       "        vertical-align: top;\n",
       "    }\n",
       "\n",
       "    .dataframe thead th {\n",
       "        text-align: right;\n",
       "    }\n",
       "</style>\n",
       "<table border=\"1\" class=\"dataframe\">\n",
       "  <thead>\n",
       "    <tr style=\"text-align: right;\">\n",
       "      <th></th>\n",
       "      <th>count</th>\n",
       "      <th>mean</th>\n",
       "      <th>std</th>\n",
       "      <th>min</th>\n",
       "      <th>25%</th>\n",
       "      <th>50%</th>\n",
       "      <th>75%</th>\n",
       "      <th>max</th>\n",
       "    </tr>\n",
       "  </thead>\n",
       "  <tbody>\n",
       "    <tr>\n",
       "      <th>year</th>\n",
       "      <td>2938.0</td>\n",
       "      <td>2.007519e+03</td>\n",
       "      <td>4.613841e+00</td>\n",
       "      <td>2000.00000</td>\n",
       "      <td>2004.000000</td>\n",
       "      <td>2.008000e+03</td>\n",
       "      <td>2.012000e+03</td>\n",
       "      <td>2.015000e+03</td>\n",
       "    </tr>\n",
       "    <tr>\n",
       "      <th>status</th>\n",
       "      <td>2938.0</td>\n",
       "      <td>1.742682e-01</td>\n",
       "      <td>3.794045e-01</td>\n",
       "      <td>0.00000</td>\n",
       "      <td>0.000000</td>\n",
       "      <td>0.000000e+00</td>\n",
       "      <td>0.000000e+00</td>\n",
       "      <td>1.000000e+00</td>\n",
       "    </tr>\n",
       "    <tr>\n",
       "      <th>life expectancy</th>\n",
       "      <td>2928.0</td>\n",
       "      <td>6.922493e+01</td>\n",
       "      <td>9.523867e+00</td>\n",
       "      <td>36.30000</td>\n",
       "      <td>63.100000</td>\n",
       "      <td>7.210000e+01</td>\n",
       "      <td>7.570000e+01</td>\n",
       "      <td>8.900000e+01</td>\n",
       "    </tr>\n",
       "    <tr>\n",
       "      <th>adult mortality</th>\n",
       "      <td>2928.0</td>\n",
       "      <td>1.647964e+02</td>\n",
       "      <td>1.242921e+02</td>\n",
       "      <td>1.00000</td>\n",
       "      <td>74.000000</td>\n",
       "      <td>1.440000e+02</td>\n",
       "      <td>2.280000e+02</td>\n",
       "      <td>7.230000e+02</td>\n",
       "    </tr>\n",
       "    <tr>\n",
       "      <th>infant deaths</th>\n",
       "      <td>2938.0</td>\n",
       "      <td>3.030395e+01</td>\n",
       "      <td>1.179265e+02</td>\n",
       "      <td>0.00000</td>\n",
       "      <td>0.000000</td>\n",
       "      <td>3.000000e+00</td>\n",
       "      <td>2.200000e+01</td>\n",
       "      <td>1.800000e+03</td>\n",
       "    </tr>\n",
       "    <tr>\n",
       "      <th>alcohol</th>\n",
       "      <td>2744.0</td>\n",
       "      <td>4.602861e+00</td>\n",
       "      <td>4.052413e+00</td>\n",
       "      <td>0.01000</td>\n",
       "      <td>0.877500</td>\n",
       "      <td>3.755000e+00</td>\n",
       "      <td>7.702500e+00</td>\n",
       "      <td>1.787000e+01</td>\n",
       "    </tr>\n",
       "    <tr>\n",
       "      <th>percentage expenditure</th>\n",
       "      <td>2938.0</td>\n",
       "      <td>7.382513e+02</td>\n",
       "      <td>1.987915e+03</td>\n",
       "      <td>0.00000</td>\n",
       "      <td>4.685343</td>\n",
       "      <td>6.491291e+01</td>\n",
       "      <td>4.415341e+02</td>\n",
       "      <td>1.947991e+04</td>\n",
       "    </tr>\n",
       "    <tr>\n",
       "      <th>hepatitis b</th>\n",
       "      <td>2385.0</td>\n",
       "      <td>8.094046e+01</td>\n",
       "      <td>2.507002e+01</td>\n",
       "      <td>1.00000</td>\n",
       "      <td>77.000000</td>\n",
       "      <td>9.200000e+01</td>\n",
       "      <td>9.700000e+01</td>\n",
       "      <td>9.900000e+01</td>\n",
       "    </tr>\n",
       "    <tr>\n",
       "      <th>measles</th>\n",
       "      <td>2938.0</td>\n",
       "      <td>2.419592e+03</td>\n",
       "      <td>1.146727e+04</td>\n",
       "      <td>0.00000</td>\n",
       "      <td>0.000000</td>\n",
       "      <td>1.700000e+01</td>\n",
       "      <td>3.602500e+02</td>\n",
       "      <td>2.121830e+05</td>\n",
       "    </tr>\n",
       "    <tr>\n",
       "      <th>bmi</th>\n",
       "      <td>2904.0</td>\n",
       "      <td>3.832125e+01</td>\n",
       "      <td>2.004403e+01</td>\n",
       "      <td>1.00000</td>\n",
       "      <td>19.300000</td>\n",
       "      <td>4.350000e+01</td>\n",
       "      <td>5.620000e+01</td>\n",
       "      <td>8.730000e+01</td>\n",
       "    </tr>\n",
       "    <tr>\n",
       "      <th>under-five deaths</th>\n",
       "      <td>2938.0</td>\n",
       "      <td>4.203574e+01</td>\n",
       "      <td>1.604455e+02</td>\n",
       "      <td>0.00000</td>\n",
       "      <td>0.000000</td>\n",
       "      <td>4.000000e+00</td>\n",
       "      <td>2.800000e+01</td>\n",
       "      <td>2.500000e+03</td>\n",
       "    </tr>\n",
       "    <tr>\n",
       "      <th>polio</th>\n",
       "      <td>2919.0</td>\n",
       "      <td>8.255019e+01</td>\n",
       "      <td>2.342805e+01</td>\n",
       "      <td>3.00000</td>\n",
       "      <td>78.000000</td>\n",
       "      <td>9.300000e+01</td>\n",
       "      <td>9.700000e+01</td>\n",
       "      <td>9.900000e+01</td>\n",
       "    </tr>\n",
       "    <tr>\n",
       "      <th>total expenditure</th>\n",
       "      <td>2712.0</td>\n",
       "      <td>5.938190e+00</td>\n",
       "      <td>2.498320e+00</td>\n",
       "      <td>0.37000</td>\n",
       "      <td>4.260000</td>\n",
       "      <td>5.755000e+00</td>\n",
       "      <td>7.492500e+00</td>\n",
       "      <td>1.760000e+01</td>\n",
       "    </tr>\n",
       "    <tr>\n",
       "      <th>diphtheria</th>\n",
       "      <td>2919.0</td>\n",
       "      <td>8.232408e+01</td>\n",
       "      <td>2.371691e+01</td>\n",
       "      <td>2.00000</td>\n",
       "      <td>78.000000</td>\n",
       "      <td>9.300000e+01</td>\n",
       "      <td>9.700000e+01</td>\n",
       "      <td>9.900000e+01</td>\n",
       "    </tr>\n",
       "    <tr>\n",
       "      <th>hiv/aids</th>\n",
       "      <td>2938.0</td>\n",
       "      <td>1.742103e+00</td>\n",
       "      <td>5.077785e+00</td>\n",
       "      <td>0.10000</td>\n",
       "      <td>0.100000</td>\n",
       "      <td>1.000000e-01</td>\n",
       "      <td>8.000000e-01</td>\n",
       "      <td>5.060000e+01</td>\n",
       "    </tr>\n",
       "    <tr>\n",
       "      <th>gdp</th>\n",
       "      <td>2490.0</td>\n",
       "      <td>7.483158e+03</td>\n",
       "      <td>1.427017e+04</td>\n",
       "      <td>1.68135</td>\n",
       "      <td>463.935626</td>\n",
       "      <td>1.766948e+03</td>\n",
       "      <td>5.910806e+03</td>\n",
       "      <td>1.191727e+05</td>\n",
       "    </tr>\n",
       "    <tr>\n",
       "      <th>population</th>\n",
       "      <td>2286.0</td>\n",
       "      <td>1.275338e+07</td>\n",
       "      <td>6.101210e+07</td>\n",
       "      <td>34.00000</td>\n",
       "      <td>195793.250000</td>\n",
       "      <td>1.386542e+06</td>\n",
       "      <td>7.420359e+06</td>\n",
       "      <td>1.293859e+09</td>\n",
       "    </tr>\n",
       "    <tr>\n",
       "      <th>thinness  1-19 years</th>\n",
       "      <td>2904.0</td>\n",
       "      <td>4.839704e+00</td>\n",
       "      <td>4.420195e+00</td>\n",
       "      <td>0.10000</td>\n",
       "      <td>1.600000</td>\n",
       "      <td>3.300000e+00</td>\n",
       "      <td>7.200000e+00</td>\n",
       "      <td>2.770000e+01</td>\n",
       "    </tr>\n",
       "    <tr>\n",
       "      <th>thinness 5-9 years</th>\n",
       "      <td>2904.0</td>\n",
       "      <td>4.870317e+00</td>\n",
       "      <td>4.508882e+00</td>\n",
       "      <td>0.10000</td>\n",
       "      <td>1.500000</td>\n",
       "      <td>3.300000e+00</td>\n",
       "      <td>7.200000e+00</td>\n",
       "      <td>2.860000e+01</td>\n",
       "    </tr>\n",
       "    <tr>\n",
       "      <th>income composition of resources</th>\n",
       "      <td>2771.0</td>\n",
       "      <td>6.275511e-01</td>\n",
       "      <td>2.109036e-01</td>\n",
       "      <td>0.00000</td>\n",
       "      <td>0.493000</td>\n",
       "      <td>6.770000e-01</td>\n",
       "      <td>7.790000e-01</td>\n",
       "      <td>9.480000e-01</td>\n",
       "    </tr>\n",
       "    <tr>\n",
       "      <th>schooling</th>\n",
       "      <td>2775.0</td>\n",
       "      <td>1.199279e+01</td>\n",
       "      <td>3.358920e+00</td>\n",
       "      <td>0.00000</td>\n",
       "      <td>10.100000</td>\n",
       "      <td>1.230000e+01</td>\n",
       "      <td>1.430000e+01</td>\n",
       "      <td>2.070000e+01</td>\n",
       "    </tr>\n",
       "  </tbody>\n",
       "</table>\n",
       "</div>"
      ],
      "text/plain": [
       "                                  count          mean           std  \\\n",
       "year                             2938.0  2.007519e+03  4.613841e+00   \n",
       "status                           2938.0  1.742682e-01  3.794045e-01   \n",
       "life expectancy                  2928.0  6.922493e+01  9.523867e+00   \n",
       "adult mortality                  2928.0  1.647964e+02  1.242921e+02   \n",
       "infant deaths                    2938.0  3.030395e+01  1.179265e+02   \n",
       "alcohol                          2744.0  4.602861e+00  4.052413e+00   \n",
       "percentage expenditure           2938.0  7.382513e+02  1.987915e+03   \n",
       "hepatitis b                      2385.0  8.094046e+01  2.507002e+01   \n",
       "measles                          2938.0  2.419592e+03  1.146727e+04   \n",
       "bmi                              2904.0  3.832125e+01  2.004403e+01   \n",
       "under-five deaths                2938.0  4.203574e+01  1.604455e+02   \n",
       "polio                            2919.0  8.255019e+01  2.342805e+01   \n",
       "total expenditure                2712.0  5.938190e+00  2.498320e+00   \n",
       "diphtheria                       2919.0  8.232408e+01  2.371691e+01   \n",
       "hiv/aids                         2938.0  1.742103e+00  5.077785e+00   \n",
       "gdp                              2490.0  7.483158e+03  1.427017e+04   \n",
       "population                       2286.0  1.275338e+07  6.101210e+07   \n",
       "thinness  1-19 years             2904.0  4.839704e+00  4.420195e+00   \n",
       "thinness 5-9 years               2904.0  4.870317e+00  4.508882e+00   \n",
       "income composition of resources  2771.0  6.275511e-01  2.109036e-01   \n",
       "schooling                        2775.0  1.199279e+01  3.358920e+00   \n",
       "\n",
       "                                        min            25%           50%  \\\n",
       "year                             2000.00000    2004.000000  2.008000e+03   \n",
       "status                              0.00000       0.000000  0.000000e+00   \n",
       "life expectancy                    36.30000      63.100000  7.210000e+01   \n",
       "adult mortality                     1.00000      74.000000  1.440000e+02   \n",
       "infant deaths                       0.00000       0.000000  3.000000e+00   \n",
       "alcohol                             0.01000       0.877500  3.755000e+00   \n",
       "percentage expenditure              0.00000       4.685343  6.491291e+01   \n",
       "hepatitis b                         1.00000      77.000000  9.200000e+01   \n",
       "measles                             0.00000       0.000000  1.700000e+01   \n",
       "bmi                                 1.00000      19.300000  4.350000e+01   \n",
       "under-five deaths                   0.00000       0.000000  4.000000e+00   \n",
       "polio                               3.00000      78.000000  9.300000e+01   \n",
       "total expenditure                   0.37000       4.260000  5.755000e+00   \n",
       "diphtheria                          2.00000      78.000000  9.300000e+01   \n",
       "hiv/aids                            0.10000       0.100000  1.000000e-01   \n",
       "gdp                                 1.68135     463.935626  1.766948e+03   \n",
       "population                         34.00000  195793.250000  1.386542e+06   \n",
       "thinness  1-19 years                0.10000       1.600000  3.300000e+00   \n",
       "thinness 5-9 years                  0.10000       1.500000  3.300000e+00   \n",
       "income composition of resources     0.00000       0.493000  6.770000e-01   \n",
       "schooling                           0.00000      10.100000  1.230000e+01   \n",
       "\n",
       "                                          75%           max  \n",
       "year                             2.012000e+03  2.015000e+03  \n",
       "status                           0.000000e+00  1.000000e+00  \n",
       "life expectancy                  7.570000e+01  8.900000e+01  \n",
       "adult mortality                  2.280000e+02  7.230000e+02  \n",
       "infant deaths                    2.200000e+01  1.800000e+03  \n",
       "alcohol                          7.702500e+00  1.787000e+01  \n",
       "percentage expenditure           4.415341e+02  1.947991e+04  \n",
       "hepatitis b                      9.700000e+01  9.900000e+01  \n",
       "measles                          3.602500e+02  2.121830e+05  \n",
       "bmi                              5.620000e+01  8.730000e+01  \n",
       "under-five deaths                2.800000e+01  2.500000e+03  \n",
       "polio                            9.700000e+01  9.900000e+01  \n",
       "total expenditure                7.492500e+00  1.760000e+01  \n",
       "diphtheria                       9.700000e+01  9.900000e+01  \n",
       "hiv/aids                         8.000000e-01  5.060000e+01  \n",
       "gdp                              5.910806e+03  1.191727e+05  \n",
       "population                       7.420359e+06  1.293859e+09  \n",
       "thinness  1-19 years             7.200000e+00  2.770000e+01  \n",
       "thinness 5-9 years               7.200000e+00  2.860000e+01  \n",
       "income composition of resources  7.790000e-01  9.480000e-01  \n",
       "schooling                        1.430000e+01  2.070000e+01  "
      ]
     },
     "execution_count": 8,
     "metadata": {},
     "output_type": "execute_result"
    }
   ],
   "source": [
    "life.describe().T\n"
   ]
  },
  {
   "cell_type": "code",
   "execution_count": 9,
   "id": "5bc441de",
   "metadata": {},
   "outputs": [],
   "source": [
    "#Schooling Column\n",
    "life.schooling.fillna(value = 12,inplace = True)\n",
    "#there is no big difference between mean median which tells us that there is very little to no outliers\n"
   ]
  },
  {
   "cell_type": "code",
   "execution_count": 10,
   "id": "314a510d",
   "metadata": {},
   "outputs": [],
   "source": [
    "#life expectancy column\n",
    "life.iloc[:,3].mean()#69.224\n",
    "life.iloc[:,3].median()#72.1\n",
    "life.iloc[:,3].describe()\n",
    "life['life expectancy'].fillna(method = 'ffill', inplace = True)\n",
    "\n",
    "#filling the value of previous valid row in the none place\n"
   ]
  },
  {
   "cell_type": "code",
   "execution_count": 11,
   "id": "ca4f4098",
   "metadata": {},
   "outputs": [],
   "source": [
    "#adult mortality\n",
    "life['adult mortality'].describe()\n",
    "life['adult mortality'].isnull().sum()\n",
    "life['adult mortality'].fillna(method = 'bfill',inplace =True)#filling the value of previous valid row in the none place"
   ]
  },
  {
   "cell_type": "code",
   "execution_count": 12,
   "id": "8a7ad516",
   "metadata": {},
   "outputs": [
    {
     "data": {
      "text/plain": [
       "5.755"
      ]
     },
     "execution_count": 12,
     "metadata": {},
     "output_type": "execute_result"
    }
   ],
   "source": [
    "life['total expenditure'].mean()#5.938\n",
    "life['total expenditure'].median()#5.755\n"
   ]
  },
  {
   "cell_type": "code",
   "execution_count": 13,
   "id": "f8303fb3",
   "metadata": {},
   "outputs": [],
   "source": [
    "life['total expenditure'].fillna(value=life['total expenditure'].median(),inplace =True)"
   ]
  },
  {
   "cell_type": "code",
   "execution_count": 14,
   "id": "cb388d9a",
   "metadata": {},
   "outputs": [
    {
     "name": "stdout",
     "output_type": "stream",
     "text": [
      "<class 'pandas.core.frame.DataFrame'>\n",
      "RangeIndex: 2938 entries, 0 to 2937\n",
      "Data columns (total 22 columns):\n",
      " #   Column                           Non-Null Count  Dtype  \n",
      "---  ------                           --------------  -----  \n",
      " 0   country                          2938 non-null   object \n",
      " 1   year                             2938 non-null   int64  \n",
      " 2   status                           2938 non-null   int64  \n",
      " 3   life expectancy                  2938 non-null   float64\n",
      " 4   adult mortality                  2938 non-null   float64\n",
      " 5   infant deaths                    2938 non-null   int64  \n",
      " 6   alcohol                          2744 non-null   float64\n",
      " 7   percentage expenditure           2938 non-null   float64\n",
      " 8   hepatitis b                      2385 non-null   float64\n",
      " 9   measles                          2938 non-null   int64  \n",
      " 10  bmi                              2904 non-null   float64\n",
      " 11  under-five deaths                2938 non-null   int64  \n",
      " 12  polio                            2919 non-null   float64\n",
      " 13  total expenditure                2938 non-null   float64\n",
      " 14  diphtheria                       2919 non-null   float64\n",
      " 15  hiv/aids                         2938 non-null   float64\n",
      " 16  gdp                              2490 non-null   float64\n",
      " 17  population                       2286 non-null   float64\n",
      " 18  thinness  1-19 years             2904 non-null   float64\n",
      " 19  thinness 5-9 years               2904 non-null   float64\n",
      " 20  income composition of resources  2771 non-null   float64\n",
      " 21  schooling                        2938 non-null   float64\n",
      "dtypes: float64(16), int64(5), object(1)\n",
      "memory usage: 505.1+ KB\n"
     ]
    }
   ],
   "source": [
    "life.info()"
   ]
  },
  {
   "cell_type": "code",
   "execution_count": 15,
   "id": "e3ea49bc",
   "metadata": {},
   "outputs": [
    {
     "name": "stdout",
     "output_type": "stream",
     "text": [
      "<class 'pandas.core.frame.DataFrame'>\n",
      "RangeIndex: 2938 entries, 0 to 2937\n",
      "Data columns (total 22 columns):\n",
      " #   Column                           Non-Null Count  Dtype  \n",
      "---  ------                           --------------  -----  \n",
      " 0   country                          2938 non-null   object \n",
      " 1   year                             2938 non-null   int64  \n",
      " 2   status                           2938 non-null   int64  \n",
      " 3   life expectancy                  2938 non-null   float64\n",
      " 4   adult mortality                  2938 non-null   float64\n",
      " 5   infant deaths                    2938 non-null   int64  \n",
      " 6   alcohol                          2938 non-null   float64\n",
      " 7   percentage expenditure           2938 non-null   float64\n",
      " 8   hepatitis b                      2385 non-null   float64\n",
      " 9   measles                          2938 non-null   int64  \n",
      " 10  bmi                              2904 non-null   float64\n",
      " 11  under-five deaths                2938 non-null   int64  \n",
      " 12  polio                            2919 non-null   float64\n",
      " 13  total expenditure                2938 non-null   float64\n",
      " 14  diphtheria                       2919 non-null   float64\n",
      " 15  hiv/aids                         2938 non-null   float64\n",
      " 16  gdp                              2490 non-null   float64\n",
      " 17  population                       2286 non-null   float64\n",
      " 18  thinness  1-19 years             2904 non-null   float64\n",
      " 19  thinness 5-9 years               2904 non-null   float64\n",
      " 20  income composition of resources  2771 non-null   float64\n",
      " 21  schooling                        2938 non-null   float64\n",
      "dtypes: float64(16), int64(5), object(1)\n",
      "memory usage: 505.1+ KB\n"
     ]
    }
   ],
   "source": [
    "#mean-4.602,median-3.755,std - 4.05\n",
    "life.alcohol.describe()\n",
    "life.alcohol.fillna(method = 'bfill',inplace = True,)\n",
    "life.info()"
   ]
  },
  {
   "cell_type": "code",
   "execution_count": 16,
   "id": "5c3868af",
   "metadata": {},
   "outputs": [],
   "source": [
    "life['gdp'].fillna(method = 'pad',inplace =True)\n",
    "# life['population'].fillna(method = 'pad',inplace =True)\n"
   ]
  },
  {
   "cell_type": "code",
   "execution_count": 17,
   "id": "a388cba3",
   "metadata": {},
   "outputs": [
    {
     "data": {
      "text/plain": [
       "count    2.286000e+03\n",
       "mean     1.275338e+04\n",
       "std      6.101210e+04\n",
       "min      3.400000e-02\n",
       "25%      1.957933e+02\n",
       "50%      1.386542e+03\n",
       "75%      7.420359e+03\n",
       "max      1.293859e+06\n",
       "Name: population, dtype: float64"
      ]
     },
     "execution_count": 17,
     "metadata": {},
     "output_type": "execute_result"
    }
   ],
   "source": [
    "life.population = life.population/1000\n",
    "life.population.describe()#std is more so we cannot take mean or median"
   ]
  },
  {
   "cell_type": "code",
   "execution_count": null,
   "id": "52abce4e",
   "metadata": {},
   "outputs": [],
   "source": []
  },
  {
   "cell_type": "code",
   "execution_count": 18,
   "id": "df41e314",
   "metadata": {},
   "outputs": [],
   "source": [
    "life.drop(labels = 'thinness 5-9 years',axis = 1,inplace = True)\n",
    "\n"
   ]
  },
  {
   "cell_type": "code",
   "execution_count": 19,
   "id": "231a4534",
   "metadata": {},
   "outputs": [],
   "source": [
    "life.drop(labels = 'under-five deaths',axis = 1,inplace = True)\n"
   ]
  },
  {
   "cell_type": "code",
   "execution_count": 20,
   "id": "90c7cb4a",
   "metadata": {},
   "outputs": [],
   "source": [
    "# life.bmi.fillna(method = 'bfill',inplace = True)\n",
    "# "
   ]
  },
  {
   "cell_type": "code",
   "execution_count": 21,
   "id": "5b0d63b5",
   "metadata": {},
   "outputs": [],
   "source": [
    "life['income composition of resources'].mean()#0.627\n",
    "life['income composition of resources'].median()#0.677\n",
    "life['income composition of resources'].fillna(method='pad',inplace = True)\n",
    "#filling the value of previous valid row in the none place"
   ]
  },
  {
   "cell_type": "code",
   "execution_count": 22,
   "id": "1bf0b3fe",
   "metadata": {},
   "outputs": [
    {
     "data": {
      "text/plain": [
       "count    2385.000000\n",
       "mean       80.940461\n",
       "std        25.070016\n",
       "min         1.000000\n",
       "25%        77.000000\n",
       "50%        92.000000\n",
       "75%        97.000000\n",
       "max        99.000000\n",
       "Name: hepatitis b, dtype: float64"
      ]
     },
     "execution_count": 22,
     "metadata": {},
     "output_type": "execute_result"
    }
   ],
   "source": [
    "life['hepatitis b'].describe()"
   ]
  },
  {
   "cell_type": "code",
   "execution_count": 23,
   "id": "a92b5ef2",
   "metadata": {},
   "outputs": [],
   "source": [
    "life['hepatitis b'].fillna(method ='pad',inplace = True)"
   ]
  },
  {
   "cell_type": "code",
   "execution_count": 24,
   "id": "010d634f",
   "metadata": {},
   "outputs": [],
   "source": [
    "life['polio'].fillna(method ='pad',inplace = True)"
   ]
  },
  {
   "cell_type": "code",
   "execution_count": 25,
   "id": "d5179cc4",
   "metadata": {},
   "outputs": [],
   "source": [
    "life['bmi'].fillna(method ='pad',inplace = True)"
   ]
  },
  {
   "cell_type": "code",
   "execution_count": 26,
   "id": "928f2bb1",
   "metadata": {},
   "outputs": [],
   "source": [
    "life['diphtheria'].fillna(method ='pad',inplace = True)"
   ]
  },
  {
   "cell_type": "code",
   "execution_count": 27,
   "id": "490f57d9",
   "metadata": {},
   "outputs": [],
   "source": [
    "life['thinness  1-19 years'].fillna(method ='pad',inplace = True)"
   ]
  },
  {
   "cell_type": "code",
   "execution_count": 28,
   "id": "bcdfb887",
   "metadata": {},
   "outputs": [
    {
     "data": {
      "text/plain": [
       "652"
      ]
     },
     "execution_count": 28,
     "metadata": {},
     "output_type": "execute_result"
    }
   ],
   "source": [
    "life.isnull().sum().sum()"
   ]
  },
  {
   "cell_type": "code",
   "execution_count": 29,
   "id": "afb01838",
   "metadata": {},
   "outputs": [],
   "source": [
    "life.dropna(inplace = True)"
   ]
  },
  {
   "cell_type": "code",
   "execution_count": 30,
   "id": "7561d299",
   "metadata": {},
   "outputs": [
    {
     "name": "stdout",
     "output_type": "stream",
     "text": [
      "<class 'pandas.core.frame.DataFrame'>\n",
      "Int64Index: 2286 entries, 0 to 2937\n",
      "Data columns (total 20 columns):\n",
      " #   Column                           Non-Null Count  Dtype  \n",
      "---  ------                           --------------  -----  \n",
      " 0   country                          2286 non-null   object \n",
      " 1   year                             2286 non-null   int64  \n",
      " 2   status                           2286 non-null   int64  \n",
      " 3   life expectancy                  2286 non-null   float64\n",
      " 4   adult mortality                  2286 non-null   float64\n",
      " 5   infant deaths                    2286 non-null   int64  \n",
      " 6   alcohol                          2286 non-null   float64\n",
      " 7   percentage expenditure           2286 non-null   float64\n",
      " 8   hepatitis b                      2286 non-null   float64\n",
      " 9   measles                          2286 non-null   int64  \n",
      " 10  bmi                              2286 non-null   float64\n",
      " 11  polio                            2286 non-null   float64\n",
      " 12  total expenditure                2286 non-null   float64\n",
      " 13  diphtheria                       2286 non-null   float64\n",
      " 14  hiv/aids                         2286 non-null   float64\n",
      " 15  gdp                              2286 non-null   float64\n",
      " 16  population                       2286 non-null   float64\n",
      " 17  thinness  1-19 years             2286 non-null   float64\n",
      " 18  income composition of resources  2286 non-null   float64\n",
      " 19  schooling                        2286 non-null   float64\n",
      "dtypes: float64(15), int64(4), object(1)\n",
      "memory usage: 375.0+ KB\n"
     ]
    }
   ],
   "source": [
    "#Shows How every Column is related to the Target Variable\n",
    "life_rel = life.corr()\n",
    "life.info()"
   ]
  },
  {
   "cell_type": "code",
   "execution_count": 31,
   "id": "fa51cd1d",
   "metadata": {},
   "outputs": [
    {
     "data": {
      "text/plain": [
       "<AxesSubplot:>"
      ]
     },
     "execution_count": 31,
     "metadata": {},
     "output_type": "execute_result"
    },
    {
     "data": {
      "image/png": "[encoded data removed]",
      "text/plain": [
       "<Figure size 1584x864 with 2 Axes>"
      ]
     },
     "metadata": {
      "needs_background": "light"
     },
     "output_type": "display_data"
    }
   ],
   "source": [
    "plt.figure(figsize = (22,12) )\n",
    "sns.heatmap(data = life_rel,annot = True)"
   ]
  },
  {
   "cell_type": "code",
   "execution_count": 32,
   "id": "6b1db72f",
   "metadata": {},
   "outputs": [],
   "source": [
    "#Under Five deaths and infant mortality rate are highly correlated with (100%) so we can drop any one of them(under five deaths)\n",
    "#similarly THinnes 1-19 and thinness 5-9 are also highly correlated(0.94%) and both are equally correlated with target variable\n"
   ]
  },
  {
   "cell_type": "markdown",
   "id": "aea75c34",
   "metadata": {},
   "source": [
    "#### Linear Regression"
   ]
  },
  {
   "cell_type": "code",
   "execution_count": 40,
   "id": "a5252754",
   "metadata": {},
   "outputs": [],
   "source": [
    "from sklearn.linear_model import LinearRegression\n",
    "from sklearn.model_selection import train_test_split\n",
    "from sklearn.metrics import r2_score"
   ]
  },
  {
   "cell_type": "code",
   "execution_count": 34,
   "id": "231d1d39",
   "metadata": {},
   "outputs": [],
   "source": [
    "lr = LinearRegression()"
   ]
  },
  {
   "cell_type": "code",
   "execution_count": 56,
   "id": "20c0e5e0",
   "metadata": {},
   "outputs": [],
   "source": [
    "#we are considering only those fetures that Show atleast +- 0.1 correlation\n",
    "#population is under 0.1 so we are not considering it as a good feature\n",
    "x = life[['year', 'status', 'adult mortality',\n",
    "       'infant deaths', 'alcohol', 'percentage expenditure', 'hepatitis b',\n",
    "       'measles', 'bmi', 'polio', 'total expenditure', 'diphtheria',\n",
    "       'hiv/aids', 'gdp', 'thinness  1-19 years',\n",
    "       'income composition of resources', 'schooling']]\n",
    "# Grouping All the Features into X\n",
    "y = life[['life expectancy']]\n",
    "# Grouped target variable to Y\n",
    "\n"
   ]
  },
  {
   "cell_type": "code",
   "execution_count": 57,
   "id": "48c4743f",
   "metadata": {},
   "outputs": [],
   "source": [
    "train_x,test_x,train_y,test_y = train_test_split(x,y)"
   ]
  },
  {
   "cell_type": "code",
   "execution_count": 58,
   "id": "86076c7d",
   "metadata": {},
   "outputs": [
    {
     "data": {
      "text/plain": [
       "LinearRegression()"
      ]
     },
     "execution_count": 58,
     "metadata": {},
     "output_type": "execute_result"
    }
   ],
   "source": [
    "lr.fit(train_x,train_y)"
   ]
  },
  {
   "cell_type": "code",
   "execution_count": 59,
   "id": "4edd4fcc",
   "metadata": {},
   "outputs": [],
   "source": [
    "y_pred = lr.predict(test_x)"
   ]
  },
  {
   "cell_type": "code",
   "execution_count": 60,
   "id": "e65d8f7a",
   "metadata": {},
   "outputs": [
    {
     "data": {
      "text/plain": [
       "84.96711755812419"
      ]
     },
     "execution_count": 60,
     "metadata": {},
     "output_type": "execute_result"
    }
   ],
   "source": [
    "lracc = r2_score(test_y,y_pred)\n",
    "lracc*100"
   ]
  },
  {
   "cell_type": "markdown",
   "id": "70c83f64",
   "metadata": {},
   "source": [
    "### DecisionTreeRegressor"
   ]
  },
  {
   "cell_type": "code",
   "execution_count": 61,
   "id": "0741ecc8",
   "metadata": {},
   "outputs": [],
   "source": [
    "from sklearn.tree import DecisionTreeRegressor\n",
    "dtr = DecisionTreeRegressor(random_state=1)"
   ]
  },
  {
   "cell_type": "code",
   "execution_count": 62,
   "id": "4b835d2f",
   "metadata": {},
   "outputs": [
    {
     "data": {
      "text/plain": [
       "DecisionTreeRegressor(random_state=1)"
      ]
     },
     "execution_count": 62,
     "metadata": {},
     "output_type": "execute_result"
    }
   ],
   "source": [
    "dtr.fit(train_x,train_y)"
   ]
  },
  {
   "cell_type": "code",
   "execution_count": 64,
   "id": "fe71a4e9",
   "metadata": {},
   "outputs": [],
   "source": [
    "y_p = dtr.predict(test_x)\n"
   ]
  },
  {
   "cell_type": "code",
   "execution_count": 65,
   "id": "f60b5906",
   "metadata": {},
   "outputs": [
    {
     "data": {
      "text/plain": [
       "93.22427435483061"
      ]
     },
     "execution_count": 65,
     "metadata": {},
     "output_type": "execute_result"
    }
   ],
   "source": [
    "dtr_acc = r2_score(test_y,y_p)\n",
    "dtr_acc*100"
   ]
  }
 ],
 "metadata": {
  "kernelspec": {
   "display_name": "Python 3",
   "language": "python",
   "name": "python3"
  },
  "language_info": {
   "codemirror_mode": {
    "name": "ipython",
    "version": 3
   },
   "file_extension": ".py",
   "mimetype": "text/x-python",
   "name": "python",
   "nbconvert_exporter": "python",
   "pygments_lexer": "ipython3",
   "version": "3.8.8"
  }
 },
 "nbformat": 4,
 "nbformat_minor": 5
}
